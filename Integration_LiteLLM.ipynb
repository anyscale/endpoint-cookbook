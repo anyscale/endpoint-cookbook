{
 "cells": [
  {
   "cell_type": "markdown",
   "id": "71d31fa5-68b8-4ff0-9c93-5e52930dd8b4",
   "metadata": {},
   "source": [
    "# LiteLLM\n",
    "## LiteLLM helps to call 100+ LLMs using the same Input/Output Format"
   ]
  },
  {
   "cell_type": "code",
   "execution_count": null,
   "id": "bced1935-b80c-4fcf-936b-f814f728c08d",
   "metadata": {
    "scrolled": true,
    "tags": []
   },
   "outputs": [],
   "source": [
    "# Installation\n",
    "!pip install litellm -q"
   ]
  },
  {
   "cell_type": "markdown",
   "id": "46e7af91-59dd-4298-a2f5-6ce87d52b333",
   "metadata": {},
   "source": [
    "## To use LiteLLM with Anyscale Endpoint, you can directly add `anyscale/` in front of the model name, with Anyscale API base and API Key."
   ]
  },
  {
   "cell_type": "code",
   "execution_count": null,
   "id": "b74a7026-961e-4f5f-b388-e9ecb774c6f2",
   "metadata": {
    "tags": []
   },
   "outputs": [],
   "source": [
    "from litellm import completion\n",
    "\n",
    "api_base=\"https://console.endpoints.anyscale.com/m/v1\"\n",
    "api_key=\"secret_ramy6miafz45heuf3hff21babw\"\n",
    "## Add \"anyscale\" prefix \n",
    "model=\"anyscale/meta-llama/Llama-2-70b-chat-hf\"\n",
    "messages=[{'content': 'You are an helpful AI', 'role': 'system'},\n",
    "          {'content': 'How did the lift begin on earth', 'role': 'user'}]\n",
    "response = completion(api_base=api_base,api_key=api_key,model=model, messages=messages)\n",
    "print(response)"
   ]
  },
  {
   "cell_type": "markdown",
   "id": "b3e166b5-17ee-43c2-b0b3-b29f25e6dfc7",
   "metadata": {
    "tags": []
   },
   "source": [
    "## Another way is to use `custom_llm_provider` parameter with value **custom_openai**"
   ]
  },
  {
   "cell_type": "code",
   "execution_count": 4,
   "id": "dc57595a-9a5b-4d7e-b2ea-538018f4dd22",
   "metadata": {
    "tags": []
   },
   "outputs": [
    {
     "name": "stdout",
     "output_type": "stream",
     "text": [
      "  Python is a popular programming language for data analysis and visualization. In this situation, we can use Python and the matplotlib library to plot normalized stock prices.\n",
      "\n",
      "First, we need to import the necessary libraries:\n",
      "```python\n",
      "import matplotlib.pyplot as plt\n",
      "import pandas as pd\n",
      "```\n",
      "Next, we need to load the stock prices for AAPL and META. For this, we can use the pandas library to read the stock prices from a CSV file:\n",
      "```python\n",
      "# Load stock prices for AAPL and META\n",
      "aapl_prices = pd.read_csv('AAPL_prices.csv', index_col='Date', parse_dates=['Date'])\n",
      "meta_prices = pd.read_csv('META_prices.csv', index_col='Date', parse_dates=['Date'])\n",
      "```\n",
      "Once we have loaded the stock prices, we can normalize them by dividing them by their maximum value:\n",
      "```python\n",
      "# Normalize stock prices\n",
      "aapl_prices_normalized = aapl_prices / aapl_prices.max()\n",
      "meta_prices_normalized = meta_prices / meta_prices.max()\n",
      "```\n",
      "Finally, we can plot the normalized stock prices using the matplotlib library:\n",
      "```python\n",
      "# Plot normalized stock prices\n",
      "plt.plot(aapl_prices_normalized, label='AAPL')\n",
      "plt.plot(meta_prices_normalized, label='META')\n",
      "plt.legend()\n",
      "plt.show()\n",
      "```\n",
      "This will create a line chart showing the normalized stock prices for AAPL and META over time. The y-axis will represent the normalized stock prices, and the x-axis will represent the date. The chart will also include a legend to indicate which stock prices belong to which company.\n"
     ]
    }
   ],
   "source": [
    "param={'model': 'codellama/CodeLlama-34b-Instruct-hf', \n",
    "       'messages': [{'role': 'system', 'content': \"You are a world-class programmer that can complete any goal by executing code.\"}, \n",
    "                    {'role': 'user', 'content': \"Plot AAPL and META's normalized stock prices\"}],    \n",
    "       'custom_llm_provider': 'custom_openai', \n",
    "       'api_base': 'https://console.endpoints.anyscale.com/m/v1', \n",
    "       'api_key': 'secret_ramy6miafz45heuf3hff21babw'}\n",
    "response = completion(**param)\n",
    "print(response['choices'][0]['message']['content'])"
   ]
  }
 ],
 "metadata": {
  "kernelspec": {
   "display_name": "Python 3 (ipykernel)",
   "language": "python",
   "name": "python3"
  },
  "language_info": {
   "codemirror_mode": {
    "name": "ipython",
    "version": 3
   },
   "file_extension": ".py",
   "mimetype": "text/x-python",
   "name": "python",
   "nbconvert_exporter": "python",
   "pygments_lexer": "ipython3",
   "version": "3.10.8"
  }
 },
 "nbformat": 4,
 "nbformat_minor": 5
}
