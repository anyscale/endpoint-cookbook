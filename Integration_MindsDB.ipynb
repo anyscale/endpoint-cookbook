{
 "cells": [
  {
   "attachments": {
    "a746bc32-a593-4599-9ee0-86b4daefdd95.png": {
     "image/png": "[encoded data removed]"
    }
   },
   "cell_type": "markdown",
   "id": "48a102bd-9fac-4422-a966-64c562fddcc9",
   "metadata": {},
   "source": [
    "![image.png](attachment:a746bc32-a593-4599-9ee0-86b4daefdd95.png)"
   ]
  },
  {
   "cell_type": "markdown",
   "id": "dc004d0f-9a2e-41a4-9902-749bf5f45465",
   "metadata": {},
   "source": [
    "[MindsDB](https://github.com/mindsdb/mindsdb) is the platform for customizing AI from enterprise data. With MindsDB and its nearly 200 integrations to data sources and AI/ML frameworks, any developer can deploy, serve, and fine-tune models in real-time, and build AI-powered applications."
   ]
  },
  {
   "cell_type": "markdown",
   "id": "fd1a412b-bfa7-48c2-a92f-cdf81341e064",
   "metadata": {},
   "source": [
    "MindsDB integrates with Anyscale, enabling users to deploy, serve, and fine-tune Anyscale models within MindsDB, making them accessible to numerous data sources."
   ]
  },
  {
   "cell_type": "markdown",
   "id": "d4f62724-f89d-418e-a3e5-6fe334940d51",
   "metadata": {},
   "source": [
    "## Prerequisites\n",
    "\n",
    "Before proceeding, ensure the following prerequisites are met:\n",
    "\n",
    "- Install MindsDB locally via [Docker.](https://docs.mindsdb.com/setup/self-hosted/docker)\n",
    "- To use Anyscale Endpoints within MindsDB, install the required dependencies following [this instruction.](https://docs.mindsdb.com/setup/self-hosted/docker#install-dependencies)\n",
    "- Obtain the Anyscale Endpoints API key required to deploy and use Anyscale Endpoints models within MindsDB. Follow the [instructions for obtaining the API key.](https://docs.endpoints.anyscale.com/guides/authenticate/)"
   ]
  },
  {
   "cell_type": "markdown",
   "id": "a123da53-94c8-4137-af9b-07dd99484fe0",
   "metadata": {},
   "source": [
    "## Setup\n",
    "\n",
    "Create an AI engine from the [Anyscale Endpoints handler](https://github.com/mindsdb/mindsdb/tree/staging/mindsdb/integrations/handlers/anyscale_endpoints_handler)."
   ]
  },
  {
   "cell_type": "code",
   "execution_count": null,
   "id": "fa7ec23f-37d3-4b6b-9884-410d1a399825",
   "metadata": {},
   "outputs": [],
   "source": [
    "CREATE ML_ENGINE anyscale_endpoints_engine\n",
    "FROM anyscale_endpoints\n",
    "USING\n",
    "      anyscale_endpoints_api_key = 'api-key-value';"
   ]
  },
  {
   "cell_type": "markdown",
   "id": "cb50d7f1-d661-42b8-8a9a-144d3ee32d72",
   "metadata": {},
   "source": [
    "Create a model using `anyscale_endpoints_engine` as an engine."
   ]
  },
  {
   "cell_type": "code",
   "execution_count": null,
   "id": "52e5fe9e-8192-4118-ab0d-9240bff73ac1",
   "metadata": {},
   "outputs": [],
   "source": [
    "CREATE MODEL anyscale_endpoints_model\n",
    "[FROM integration\n",
    "         (SELECT * FROM table)]\n",
    "PREDICT target_column\n",
    "USING\n",
    "      engine = 'anyscale_endpoints_engine',   -- engine name as created via CREATE ML_ENGINE\n",
    "      model_name = 'model-name',              -- choose one of available models\n",
    "      prompt_teplate = 'prompt-to-the-model'; -- prompt message to be completed by the model"
   ]
  },
  {
   "cell_type": "markdown",
   "id": "de41341a-5976-44e1-8183-3dfd020794ea",
   "metadata": {},
   "source": [
    "## Usage\r\n",
    "\r\n",
    "The following usage examples utilize `anyscale_endpoints_engine` to create a model with the `CREATE MODEL` statement.\r\n",
    "\r\n",
    "Classify text sentiment using the Mistral 7B model."
   ]
  },
  {
   "cell_type": "code",
   "execution_count": null,
   "id": "bc394180-1cc0-4494-88b2-29e05a4af7d1",
   "metadata": {},
   "outputs": [],
   "source": [
    "CREATE MODEL anyscale_endpoints_model\n",
    "PREDICT sentiment\n",
    "USING\n",
    "   engine = 'anyscale_endpoints_engine',\n",
    "   model_name = 'mistralai/Mistral-7B-Instruct-v0.1',\n",
    "   prompt_template = 'Classify the sentiment of the following text as one of `positive`, `neutral` or `negative`: {{text}}';"
   ]
  },
  {
   "cell_type": "markdown",
   "id": "56d6adb5-8adc-4198-882f-56d2cd251922",
   "metadata": {},
   "source": [
    "Query the model to get predictions."
   ]
  },
  {
   "cell_type": "code",
   "execution_count": null,
   "id": "410063cc-9b64-462f-bc16-17b5c0b1583c",
   "metadata": {},
   "outputs": [],
   "source": [
    "SELECT text, sentiment\n",
    "FROM anyscale_endpoints_model\n",
    "WHERE text = 'I love machine learning!';"
   ]
  },
  {
   "cell_type": "markdown",
   "id": "bc617ff4-6141-411a-88e3-b3887e835905",
   "metadata": {},
   "source": [
    "```sql\n",
    "+--------------------------+-----------+\n",
    "| text                     | sentiment |\n",
    "+--------------------------+-----------+\n",
    "| I love machine learning! | positive  |\n",
    "+--------------------------+-----------+\n",
    "```"
   ]
  },
  {
   "cell_type": "markdown",
   "id": "dc78c130-1b2a-45ef-b1e0-1f68a297a4b3",
   "metadata": {},
   "source": [
    "<Tip>\n",
    "\n",
    "**Next Steps**\n",
    "\n",
    "For more information visit this [documentation](https://docs.mindsdb.com/integrations/ai-engines/anyscale).Follow [this tutorial](https://docs.mindsdb.com/use-cases/automated_finetuning/anyscale) to see more use case examples.\n",
    "</Tip>"
   ]
  }
 ],
 "metadata": {
  "kernelspec": {
   "display_name": "Python 3 (ipykernel)",
   "language": "python",
   "name": "python3"
  },
  "language_info": {
   "codemirror_mode": {
    "name": "ipython",
    "version": 3
   },
   "file_extension": ".py",
   "mimetype": "text/x-python",
   "name": "python",
   "nbconvert_exporter": "python",
   "pygments_lexer": "ipython3",
   "version": "3.11.7"
  }
 },
 "nbformat": 4,
 "nbformat_minor": 5
}
