{
 "cells": [
  {
   "cell_type": "markdown",
   "id": "a8883a35-fb97-45a8-a175-8fc94f386c17",
   "metadata": {
    "tags": []
   },
   "source": [
    "## MongoDB and Anyscale Integration with LangChain"
   ]
  },
  {
   "cell_type": "code",
   "execution_count": null,
   "id": "8415a246-7461-4c89-9449-4fb2c93e5f77",
   "metadata": {
    "scrolled": true,
    "tags": []
   },
   "outputs": [],
   "source": [
    "!pip install sqlalchemy==2.0.0 pypdf pymongo"
   ]
  },
  {
   "cell_type": "code",
   "execution_count": 2,
   "id": "8992226c-18f2-4d03-92a1-6874c4bb706a",
   "metadata": {
    "tags": []
   },
   "outputs": [],
   "source": [
    "from pymongo import MongoClient\n",
    "\n",
    "# initialize MongoDB python client\n",
    "client = MongoClient(MONGODB_ATLAS_CLUSTER_URI)\n",
    "\n",
    "DB_NAME = \"MONGODB_NAME\"\n",
    "COLLECTION_NAME = \"COLLECTION_NAME\"\n",
    "ATLAS_VECTOR_SEARCH_INDEX_NAME = \"SEARCH_INDEX_NAME\"\n",
    "\n",
    "MONGODB_COLLECTION = client[DB_NAME][COLLECTION_NAME]"
   ]
  },
  {
   "cell_type": "markdown",
   "id": "d3a25565-581f-4893-a3ef-3b6a16f95000",
   "metadata": {
    "tags": []
   },
   "source": [
    "### Document loading"
   ]
  },
  {
   "cell_type": "code",
   "execution_count": 3,
   "id": "1514bfa1-559d-44f2-89a3-7d1c6a154414",
   "metadata": {
    "tags": []
   },
   "outputs": [],
   "source": [
    "from langchain_community.document_loaders import PyPDFLoader\n",
    "\n",
    "# Load the PDF\n",
    "loader = PyPDFLoader(\"./ray.pdf\")\n",
    "data = loader.load()"
   ]
  },
  {
   "cell_type": "markdown",
   "id": "3df1597b-813b-438c-bf29-69108a80fea7",
   "metadata": {},
   "source": [
    "### Text chunking"
   ]
  },
  {
   "cell_type": "code",
   "execution_count": 4,
   "id": "5763a96a-c70e-44ec-a3ee-f88214069b5c",
   "metadata": {
    "tags": []
   },
   "outputs": [],
   "source": [
    "from langchain_text_splitters import RecursiveCharacterTextSplitter\n",
    "\n",
    "text_splitter = RecursiveCharacterTextSplitter(chunk_size=1000, chunk_overlap=150)\n",
    "docs = text_splitter.split_documents(data)"
   ]
  },
  {
   "cell_type": "markdown",
   "id": "f8008693-f884-4bbe-bcdc-8a883942bd4a",
   "metadata": {},
   "source": [
    "### Insert Document into the MongoDB Atlas with Anyscale Embedding"
   ]
  },
  {
   "cell_type": "code",
   "execution_count": 5,
   "id": "b576e6e7-9085-49fd-8f3a-d7fbbde11172",
   "metadata": {
    "tags": []
   },
   "outputs": [
    {
     "data": {
      "application/vnd.jupyter.widget-view+json": {
       "model_id": "05ed96d982a6460b846b4e6e921626df",
       "version_major": 2,
       "version_minor": 0
      },
      "text/plain": [
       "Downloading:   0%|          | 0.00/342 [00:00<?, ?B/s]"
      ]
     },
     "metadata": {},
     "output_type": "display_data"
    },
    {
     "data": {
      "application/vnd.jupyter.widget-view+json": {
       "model_id": "e034850762d34f36958405cccb3ac2b0",
       "version_major": 2,
       "version_minor": 0
      },
      "text/plain": [
       "Downloading:   0%|          | 0.00/226k [00:00<?, ?B/s]"
      ]
     },
     "metadata": {},
     "output_type": "display_data"
    },
    {
     "data": {
      "application/vnd.jupyter.widget-view+json": {
       "model_id": "c8a8c6b9f2454f88b116ccedda1a2af5",
       "version_major": 2,
       "version_minor": 0
      },
      "text/plain": [
       "Downloading:   0%|          | 0.00/695k [00:00<?, ?B/s]"
      ]
     },
     "metadata": {},
     "output_type": "display_data"
    },
    {
     "data": {
      "application/vnd.jupyter.widget-view+json": {
       "model_id": "4cb8f0a7a9524ba98143f3f35478f09b",
       "version_major": 2,
       "version_minor": 0
      },
      "text/plain": [
       "Downloading:   0%|          | 0.00/125 [00:00<?, ?B/s]"
      ]
     },
     "metadata": {},
     "output_type": "display_data"
    },
    {
     "name": "stderr",
     "output_type": "stream",
     "text": [
      "2024-03-21 08:13:49.689300: I tensorflow/core/platform/cpu_feature_guard.cc:193] This TensorFlow binary is optimized with oneAPI Deep Neural Network Library (oneDNN) to use the following CPU instructions in performance-critical operations:  AVX2 AVX512F FMA\n",
      "To enable them in other operations, rebuild TensorFlow with the appropriate compiler flags.\n",
      "2024-03-21 08:13:51.657743: W tensorflow/compiler/xla/stream_executor/platform/default/dso_loader.cc:64] Could not load dynamic library 'libnvinfer.so.7'; dlerror: libnvinfer.so.7: cannot open shared object file: No such file or directory; LD_LIBRARY_PATH: /usr/local/nvidia/lib:/usr/local/nvidia/lib64\n",
      "2024-03-21 08:13:51.657962: W tensorflow/compiler/xla/stream_executor/platform/default/dso_loader.cc:64] Could not load dynamic library 'libnvinfer_plugin.so.7'; dlerror: libnvinfer_plugin.so.7: cannot open shared object file: No such file or directory; LD_LIBRARY_PATH: /usr/local/nvidia/lib:/usr/local/nvidia/lib64\n",
      "2024-03-21 08:13:51.657969: W tensorflow/compiler/tf2tensorrt/utils/py_utils.cc:38] TF-TRT Warning: Cannot dlopen some TensorRT libraries. If you would like to use Nvidia GPU with TensorRT, please make sure the missing libraries mentioned above are installed properly.\n"
     ]
    }
   ],
   "source": [
    "from langchain_community.vectorstores import MongoDBAtlasVectorSearch\n",
    "from langchain_community.embeddings import AnyscaleEmbeddings\n",
    "\n",
    "# insert the documents in MongoDB Atlas with their embedding\n",
    "x = MongoDBAtlasVectorSearch.from_documents(\n",
    "    documents=docs,\n",
    "    embedding=AnyscaleEmbeddings(anyscale_api_key=ANYSCALE_API_TOKEN),\n",
    "    collection=MONGODB_COLLECTION,\n",
    "    index_name=ATLAS_VECTOR_SEARCH_INDEX_NAME,\n",
    ")"
   ]
  },
  {
   "cell_type": "markdown",
   "id": "6e25158e-1e18-43e8-bbe8-68a71d95cd0d",
   "metadata": {},
   "source": [
    "### Create Vector Search from Atlas"
   ]
  },
  {
   "cell_type": "code",
   "execution_count": 6,
   "id": "ed53a9fe-61f8-46d2-a703-dbf638b83195",
   "metadata": {
    "tags": []
   },
   "outputs": [],
   "source": [
    "vector_search = MongoDBAtlasVectorSearch.from_connection_string(\n",
    "    MONGODB_ATLAS_CLUSTER_URI,\n",
    "    DB_NAME + \".\" + COLLECTION_NAME,\n",
    "    embedding=AnyscaleEmbeddings(anyscale_api_key=ANYSCALE_API_TOKEN),\n",
    "    index_name=ATLAS_VECTOR_SEARCH_INDEX_NAME\n",
    ")"
   ]
  },
  {
   "cell_type": "code",
   "execution_count": 8,
   "id": "5d47ab31-bc27-4fda-9764-ddde9e0d585b",
   "metadata": {
    "tags": []
   },
   "outputs": [],
   "source": [
    "from langchain.chains import RetrievalQA\n",
    "\n",
    "from langchain_community.chat_models import ChatAnyscale\n",
    "\n",
    "question=\"who is the creator of Ray\"\n",
    "\n",
    "anyscale = ChatAnyscale(anyscale_api_key=ANYSCALE_API_TOKEN,\n",
    "                        model_name=\"mistralai/Mixtral-8x7B-Instruct-v0.1\",\n",
    "                        temperature=0)"
   ]
  },
  {
   "cell_type": "markdown",
   "id": "c39b96f4-cd0a-4e02-be6a-94978ab20d6e",
   "metadata": {},
   "source": [
    "### Without context, LLM couldn't answer the question about Ray correctly"
   ]
  },
  {
   "cell_type": "code",
   "execution_count": 13,
   "id": "7d98e9b8-9c0e-490f-8abf-a1c4e7d70dbb",
   "metadata": {
    "tags": []
   },
   "outputs": [
    {
     "data": {
      "text/plain": [
       "AIMessage(content=\" I am a large language model trained by Mistral AI, and I don't have the ability to create individual entities or objects, such as characters in movies or books. As for the character Ray, I'm afraid I don't have specific information about his creator, as he could be a character from various sources. Could you please specify the Ray character you're referring to? This will help me provide a more accurate and helpful response.\\n\\nIn general, my main purpose is to provide accurate and reliable information while ensuring a positive and respectful interaction. I follow the principles of truthful, high-quality, and beneficial responses, as well as avoiding harmful, unethical, or prejudiced content. I am committed to promoting fairness and positivity in all my interactions.\")"
      ]
     },
     "execution_count": 13,
     "metadata": {},
     "output_type": "execute_result"
    }
   ],
   "source": [
    "anyscale.invoke(question)"
   ]
  },
  {
   "cell_type": "markdown",
   "id": "a98ab8e5-08ac-4544-b4f0-d52772b11cb2",
   "metadata": {},
   "source": [
    "### With vector search and retrieval, now it can answer it correctly"
   ]
  },
  {
   "cell_type": "code",
   "execution_count": 14,
   "id": "e12b29d7-8411-4043-ae91-e62b0dcd2513",
   "metadata": {
    "tags": []
   },
   "outputs": [
    {
     "data": {
      "text/plain": [
       "{'query': 'who is the creator of Ray',\n",
       " 'result': ' The creator of Ray is Robert Nishihara. He is a research scientist at UC Berkeley and a co-founder of the company Anyscale, which aims to democratize AI applications by bringing Ray to more users. Ray is a unified framework for distributed computing that unifies tasks and actors through a shared object store, allowing developers to express a wide range of parallelism and leverage both task and actor abstractions. It has been used by many people and several companies are running it in production. Ray provides a powerful combination of flexibility, performance, and ease of use for the development of future AI applications.'}"
      ]
     },
     "execution_count": 14,
     "metadata": {},
     "output_type": "execute_result"
    }
   ],
   "source": [
    "qa_chain = RetrievalQA.from_chain_type(anyscale, retriever=vector_search.as_retriever())\n",
    "qa_chain({\"query\": question})"
   ]
  },
  {
   "cell_type": "code",
   "execution_count": null,
   "id": "0ec8702b-291b-4071-918a-da080533593f",
   "metadata": {},
   "outputs": [],
   "source": []
  }
 ],
 "metadata": {
  "kernelspec": {
   "display_name": "Python 3 (ipykernel)",
   "language": "python",
   "name": "python3"
  },
  "language_info": {
   "codemirror_mode": {
    "name": "ipython",
    "version": 3
   },
   "file_extension": ".py",
   "mimetype": "text/x-python",
   "name": "python",
   "nbconvert_exporter": "python",
   "pygments_lexer": "ipython3",
   "version": "3.10.13"
  }
 },
 "nbformat": 4,
 "nbformat_minor": 5
}
