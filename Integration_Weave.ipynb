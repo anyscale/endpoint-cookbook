{
 "cells": [
  {
   "cell_type": "markdown",
   "id": "bd50d6e4",
   "metadata": {},
   "source": [
    "# Weave (WandB) Integration\n",
    "##### Weave is an open-source toolkit for performant, interactive data exploration. It was designed for WandB, an experiment tracking solution that allows users to track and visualize various aspects of their model training and inference in real time. This example uses WandB Weave to monitor LLM performance."
   ]
  },
  {
   "cell_type": "code",
   "execution_count": null,
   "id": "e6c4df44-8e29-4326-a0f2-61232347de85",
   "metadata": {
    "tags": []
   },
   "outputs": [],
   "source": [
    "!pip install -q weave openai"
   ]
  },
  {
   "cell_type": "markdown",
   "id": "ee0b24bd-665a-4b0f-ac46-7fe03528a4ce",
   "metadata": {
    "tags": []
   },
   "source": [
    "### 1. Log in to WandB and initialize the monitor process"
   ]
  },
  {
   "cell_type": "code",
   "execution_count": null,
   "id": "8d4fb005-eb38-4b9c-926e-075a90ff58ba",
   "metadata": {
    "tags": []
   },
   "outputs": [],
   "source": [
    "import wandb\n",
    "from weave.monitoring import init_monitor\n",
    "\n",
    "# Log into WandB\n",
    "wandb.login()\n",
    "\n",
    "# WandB Settings\n",
    "WB_ENTITY = \"YOUR_WB_ENTITY\"\n",
    "WB_PROJECT = \"YOUR-WB-PROJECT\" # eg: anyscale-endpoints\n",
    "STREAM_NAME = \"sample-stream-name\" # eg: llama2_70b_logs\n",
    "\n",
    "m = init_monitor(f\"{WB_ENTITY}/{WB_PROJECT}/{STREAM_NAME}\")"
   ]
  },
  {
   "cell_type": "markdown",
   "id": "ec66d8ad-fa96-49c3-a1f5-05bf14903f01",
   "metadata": {
    "tags": []
   },
   "source": [
    "### 2. Send logs to your stream table in Weave\n",
    "#### Logs from the code snippet below will available at http://weave.wandb.ai"
   ]
  },
  {
   "cell_type": "code",
   "execution_count": null,
   "id": "fe3bb7e2-563c-4360-a26d-2208fed60d58",
   "metadata": {
    "tags": []
   },
   "outputs": [],
   "source": [
    "from weave.monitoring import openai\n",
    "\n",
    "ANYSCALE_ENDPOINT_TOKEN = \"YOUR_ANYSCALE_ENDPOINTS_TOKEN\"\n",
    "\n",
    "response = openai.ChatCompletion.create(\n",
    "    api_base=\"https://console.endpoints.anyscale.com/m/v1\",\n",
    "    api_key=ANYSCALE_ENDPOINT_TOKEN,\n",
    "    model=\"meta-llama/Llama-2-70b-chat-hf\", \n",
    "    messages=[\n",
    "        {\"role\": \"user\", \n",
    "        \"content\": f\"What is the meaning of life, the universe, and everything?\"},\n",
    "    ])\n",
    "print(response['choices'][0]['message']['content'])"
   ]
  },
  {
   "cell_type": "markdown",
   "id": "23073c8e",
   "metadata": {},
   "source": [
    "### 3. Track parameters of interest\n",
    "#### Weave allows to factor out parameters of interest and track them as attributes on the logged record. The snippet below tracks the system prompt, prompt template, and equation parameter."
   ]
  },
  {
   "cell_type": "code",
   "execution_count": null,
   "id": "e133da11",
   "metadata": {},
   "outputs": [],
   "source": [
    "system_prompt = \"you always write in bullet points\"\n",
    "prompt_template = 'solve the following equation step by step: {equation}'\n",
    "params = {'equation': '4 * (3 - 1)'}\n",
    "openai.ChatCompletion.create(\n",
    "    api_base=\"https://console.endpoints.anyscale.com/m/v1\",\n",
    "    api_key=ANYSCALE_ENDPOINT_TOKEN,\n",
    "    model=\"meta-llama/Llama-2-70b-chat-hf\", \n",
    "    messages=[\n",
    "        {\"role\": \"system\", \"content\": system_prompt},\n",
    "        {\"role\": \"user\", \"content\": prompt_template.format(**params)},\n",
    "    ],\n",
    "    monitor_attributes={\n",
    "        'system_prompt': system_prompt,\n",
    "        'prompt_template': prompt_template,\n",
    "        'params': params\n",
    "    })"
   ]
  }
 ],
 "metadata": {
  "kernelspec": {
   "display_name": "Python 3 (ipykernel)",
   "language": "python",
   "name": "python3"
  },
  "language_info": {
   "codemirror_mode": {
    "name": "ipython",
    "version": 3
   },
   "file_extension": ".py",
   "mimetype": "text/x-python",
   "name": "python",
   "nbconvert_exporter": "python",
   "pygments_lexer": "ipython3",
   "version": "3.9.18"
  }
 },
 "nbformat": 4,
 "nbformat_minor": 5
}
