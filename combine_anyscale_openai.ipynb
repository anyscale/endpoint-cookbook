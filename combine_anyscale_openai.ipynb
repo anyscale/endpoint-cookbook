{
 "cells": [
  {
   "cell_type": "code",
   "execution_count": null,
   "id": "e6c4df44-8e29-4326-a0f2-61232347de85",
   "metadata": {
    "tags": []
   },
   "outputs": [],
   "source": [
    "!pip3 install openai"
   ]
  },
  {
   "cell_type": "markdown",
   "id": "ee0b24bd-665a-4b0f-ac46-7fe03528a4ce",
   "metadata": {
    "tags": []
   },
   "source": [
    "# 1. Call the OpenAI endpoint with an OpenAI key "
   ]
  },
  {
   "cell_type": "code",
   "execution_count": null,
   "id": "9058d77d-aea9-4319-a338-abb45a0ed16f",
   "metadata": {},
   "outputs": [],
   "source": [
    "# openai < 1.0\n",
    "import openai\n",
    "openai.api_key = \"YOUR_OPENAI_TOKEN\"\n",
    "\n",
    "system_content = \"You will be provided with a product description and seed words. Your task is to generate potential product names.\"\n",
    "user_content = \"Product description: A home milkshake maker. Seed words: fast, healthy, compact.\"\n",
    "chat_completion = openai.ChatCompletion.create(\n",
    "    model=\"gpt-3.5-turbo-0301\",\n",
    "    messages=[{\"role\": \"system\", \"content\": system_content}, \n",
    "              {\"role\": \"user\", \"content\": user_content}],\n",
    "    temperature=0.7\n",
    ")\n",
    "product_names = chat_completion[\"choices\"][0][\"message\"][\"content\"]\n",
    "print(\"Results from the OpenAI endpoint:\\n\", product_names)"
   ]
  },
  {
   "cell_type": "code",
   "execution_count": null,
   "id": "8d4fb005-eb38-4b9c-926e-075a90ff58ba",
   "metadata": {
    "tags": []
   },
   "outputs": [],
   "source": [
    "# openai >= 1.0\n",
    "import openai\n",
    "client_params = {\n",
    "    \"api_key\" : \"sk-YOUR_OPENAI_TOKEN\"\n",
    "}\n",
    "system_content = \"You will be provided with a product description and seed words. Your task is to generate potential product names.\"\n",
    "user_content = \"Product description: A home milkshake maker. Seed words: fast, healthy, compact.\"\n",
    "resp = openai.OpenAI(**client_params).chat.completions.create(\n",
    "    model=\"gpt-3.5-turbo-0301\",\n",
    "    messages=[{\"role\": \"system\", \"content\": system_content}, \n",
    "              {\"role\": \"user\", \"content\": user_content}],\n",
    "    temperature=0.7\n",
    ")\n",
    "chat_completion = resp.model_dump()\n",
    "product_names = chat_completion[\"choices\"][0][\"message\"][\"content\"]\n",
    "print(\"Results from the OpenAI endpoint:\\n\", product_names)"
   ]
  },
  {
   "cell_type": "markdown",
   "id": "ec66d8ad-fa96-49c3-a1f5-05bf14903f01",
   "metadata": {
    "tags": []
   },
   "source": [
    "# 2. Call Anyscale Endpoints"
   ]
  },
  {
   "cell_type": "code",
   "execution_count": null,
   "id": "fe3bb7e2-563c-4360-a26d-2208fed60d58",
   "metadata": {
    "tags": []
   },
   "outputs": [],
   "source": [
    "# openai < 1.0\n",
    "import openai\n",
    "\n",
    "system_content = \"You will be provided with a product description and seed words. Your task is to generate potential product names.\"\n",
    "user_content = \"Product description: A home milkshake maker. Seed words: fast, healthy, compact.\"\n",
    "chat_completion = openai.ChatCompletion.create(\n",
    "    api_base = \"https://api.endpoints.anyscale.com/v1\",\n",
    "    api_key=\"YOUR_ANYSCALE_ENDPOINT_TOKEN\",\n",
    "    model=\"meta-llama/Llama-2-70b-chat-hf\",\n",
    "    messages=[{\"role\": \"system\", \"content\": system_content},\n",
    "              {\"role\": \"user\", \"content\": user_content}],\n",
    "    temperature=0.7\n",
    ")\n",
    "\n",
    "product_names = chat_completion[\"choices\"][0][\"message\"][\"content\"]\n",
    "print(\"Results from Anyscale Endpoint:\\n\", product_names)"
   ]
  },
  {
   "cell_type": "code",
   "execution_count": null,
   "id": "122186dd-faf6-42f2-88aa-cc3739c66d51",
   "metadata": {
    "tags": []
   },
   "outputs": [],
   "source": [
    "# openai >= 1.0\n",
    "import openai\n",
    "client_params = {\n",
    "    \"base_url\" : \"https://api.endpoints.anyscale.com/v1\",\n",
    "    \"api_key\" : \"YOUR_ANYSCALE_ENDPOINT_TOKEN\"\n",
    "}\n",
    "\n",
    "system_content = \"You will be provided with a product description and seed words. Your task is to generate potential product names.\"\n",
    "user_content = \"Product description: A home milkshake maker. Seed words: fast, healthy, compact.\"\n",
    "resp = openai.OpenAI(**client_params).chat.completions.create(\n",
    "    model=\"meta-llama/Llama-2-70b-chat-hf\",\n",
    "    messages=[{\"role\": \"system\", \"content\": system_content},\n",
    "              {\"role\": \"user\", \"content\": user_content}],\n",
    "    temperature=0.7\n",
    ")\n",
    "\n",
    "chat_completion = resp.model_dump()\n",
    "product_names = chat_completion[\"choices\"][0][\"message\"][\"content\"]\n",
    "print(\"Results from Anyscale Endpoint:\\n\", product_names)"
   ]
  },
  {
   "cell_type": "code",
   "execution_count": null,
   "id": "21f9d550-f83f-4bea-9e75-520c765af881",
   "metadata": {
    "tags": []
   },
   "outputs": [],
   "source": [
    "# openai >= 1.0\n",
    "# Another way to call AE with module client\n",
    "\n",
    "openai.base_url = \"https://api.endpoints.anyscale.com/v1\" +'/'\n",
    "openai.api_key = \"YOUR_ANYSCALE_ENDPOINT_TOKEN\"\n",
    "resp = openai.chat.completions.create(\n",
    "    model=\"meta-llama/Llama-2-70b-chat-hf\",\n",
    "    messages=[{\"role\": \"system\", \"content\": system_content},\n",
    "              {\"role\": \"user\", \"content\": user_content}],\n",
    "    temperature=0.7\n",
    ")\n",
    "chat_completion = resp.model_dump()\n",
    "product_names = chat_completion[\"choices\"][0][\"message\"][\"content\"]\n",
    "print(\"Results from Anyscale Endpoint:\\n\", product_names)"
   ]
  },
  {
   "cell_type": "markdown",
   "id": "0a4dd507-85a9-4329-b7fe-cd002da184f1",
   "metadata": {
    "tags": []
   },
   "source": [
    "# 3. Call Anyscale Endpoints with Completion API\n",
    "## To use OpenAI Completion API with AE, you need to pay attention to:\n",
    "## 1. Add **[INST]** and **[/INST]** before and after the prompt text message for Llama models.\n",
    "## 2. Explicitly set **max_tokens**"
   ]
  },
  {
   "cell_type": "code",
   "execution_count": null,
   "id": "510777b5-f316-4375-9f66-9f1de83206e3",
   "metadata": {
    "tags": []
   },
   "outputs": [],
   "source": [
    "## for openai < 1.0\n",
    "import openai\n",
    "\n",
    "system_content = \"You will be provided with a product description and seed words. Your task is to generate potential product names.\"\n",
    "user_content = \"Product description: A home milkshake maker. Seed words: fast, healthy, compact.\"\n",
    "completion = openai.Completion.create(\n",
    "    api_base = \"https://api.endpoints.anyscale.com/v1\",\n",
    "    api_key=\"YOUR_ANYSCALE_ENDPOINT_TOKEN\",\n",
    "    model=\"meta-llama/Llama-2-70b-chat-hf\",\n",
    "    prompt=\"[INST]\"+system_content+user_content+\"[/INST]\",\n",
    "    temperature=0.7,\n",
    "    max_tokens=500\n",
    ")\n",
    "product_names = completion[\"choices\"][0][\"text\"]\n",
    "print(\"Results from Anyscale Endpoint:\\n\", product_names)"
   ]
  },
  {
   "cell_type": "code",
   "execution_count": null,
   "id": "3d01d92c-3aaf-48e9-a6f3-e30ceaed1f69",
   "metadata": {
    "tags": []
   },
   "outputs": [],
   "source": [
    "## for openai >= 1.0\n",
    "import openai\n",
    "\n",
    "system_content = \"You will be provided with a product description and seed words. Your task is to generate potential product names.\"\n",
    "user_content = \"Product description: A home milkshake maker. Seed words: fast, healthy, compact.\"\n",
    "\n",
    "client_params = {\n",
    "    \"base_url\" : \"https://api.endpoints.anyscale.com/v1\",\n",
    "    \"api_key\" : \"YOUR_ANYSCALE_ENDPOINT_TOKEN\",\n",
    "}\n",
    "resp = openai.OpenAI(**client_params).completions.create(\n",
    "    \n",
    "    model=\"meta-llama/Llama-2-70b-chat-hf\",\n",
    "    prompt=\"[INST]\"+system_content+user_content+\"[/INST]\",\n",
    "    temperature=0.7,\n",
    "    max_tokens=500\n",
    ")\n",
    "\n",
    "completion = resp.model_dump()\n",
    "product_names = completion[\"choices\"][0][\"text\"]\n",
    "print(\"Results from Anyscale Endpoint:\\n\", product_names)"
   ]
  }
 ],
 "metadata": {
  "kernelspec": {
   "display_name": "Python 3 (ipykernel)",
   "language": "python",
   "name": "python3"
  },
  "language_info": {
   "codemirror_mode": {
    "name": "ipython",
    "version": 3
   },
   "file_extension": ".py",
   "mimetype": "text/x-python",
   "name": "python",
   "nbconvert_exporter": "python",
   "pygments_lexer": "ipython3",
   "version": "3.10.8"
  }
 },
 "nbformat": 4,
 "nbformat_minor": 5
}
